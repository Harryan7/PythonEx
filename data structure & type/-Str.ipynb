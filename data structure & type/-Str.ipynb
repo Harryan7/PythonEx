{
 "cells": [
  {
   "cell_type": "markdown",
   "id": "fc308916",
   "metadata": {},
   "source": [
    "## indexing"
   ]
  },
  {
   "cell_type": "code",
   "execution_count": 10,
   "id": "bab84de7",
   "metadata": {},
   "outputs": [],
   "source": [
    "my_s= \"hardline \""
   ]
  },
  {
   "cell_type": "code",
   "execution_count": 2,
   "id": "2d7a81d5",
   "metadata": {},
   "outputs": [
    {
     "data": {
      "text/plain": [
       "'h'"
      ]
     },
     "execution_count": 2,
     "metadata": {},
     "output_type": "execute_result"
    }
   ],
   "source": [
    "my_s [0]"
   ]
  },
  {
   "cell_type": "code",
   "execution_count": 5,
   "id": "618ede5b",
   "metadata": {},
   "outputs": [
    {
     "data": {
      "text/plain": [
       "' '"
      ]
     },
     "execution_count": 5,
     "metadata": {},
     "output_type": "execute_result"
    }
   ],
   "source": [
    "my_s[-1]"
   ]
  },
  {
   "cell_type": "code",
   "execution_count": 9,
   "id": "f020f5be",
   "metadata": {},
   "outputs": [
    {
     "data": {
      "text/plain": [
       "' '"
      ]
     },
     "execution_count": 9,
     "metadata": {},
     "output_type": "execute_result"
    }
   ],
   "source": [
    "my_s[-1]"
   ]
  },
  {
   "cell_type": "code",
   "execution_count": 7,
   "id": "809b73e0",
   "metadata": {},
   "outputs": [
    {
     "data": {
      "text/plain": [
       "'e'"
      ]
     },
     "execution_count": 7,
     "metadata": {},
     "output_type": "execute_result"
    }
   ],
   "source": [
    "my_s[-2\n",
    "    ]"
   ]
  },
  {
   "cell_type": "code",
   "execution_count": 11,
   "id": "4c560170",
   "metadata": {},
   "outputs": [],
   "source": [
    "my_s2 = \"1234567890\""
   ]
  },
  {
   "cell_type": "code",
   "execution_count": 12,
   "id": "f169127d",
   "metadata": {},
   "outputs": [
    {
     "data": {
      "text/plain": [
       "'1'"
      ]
     },
     "execution_count": 12,
     "metadata": {},
     "output_type": "execute_result"
    }
   ],
   "source": [
    "my_s2[0\n",
    "     ]"
   ]
  },
  {
   "cell_type": "code",
   "execution_count": 13,
   "id": "fae37873",
   "metadata": {},
   "outputs": [
    {
     "data": {
      "text/plain": [
       "'34567890'"
      ]
     },
     "execution_count": 13,
     "metadata": {},
     "output_type": "execute_result"
    }
   ],
   "source": [
    "my_s2[2:]"
   ]
  },
  {
   "cell_type": "code",
   "execution_count": 14,
   "id": "a06103c2",
   "metadata": {},
   "outputs": [
    {
     "data": {
      "text/plain": [
       "'1234567890'"
      ]
     },
     "execution_count": 14,
     "metadata": {},
     "output_type": "execute_result"
    }
   ],
   "source": [
    "my_s2[:5 * 2]"
   ]
  },
  {
   "cell_type": "code",
   "execution_count": 15,
   "id": "b04970b8",
   "metadata": {},
   "outputs": [
    {
     "data": {
      "text/plain": [
       "'12345'"
      ]
     },
     "execution_count": 15,
     "metadata": {},
     "output_type": "execute_result"
    }
   ],
   "source": [
    "my_s2[:5 ]"
   ]
  },
  {
   "cell_type": "markdown",
   "id": "c45b1bff",
   "metadata": {},
   "source": [
    "## slicing"
   ]
  },
  {
   "cell_type": "markdown",
   "id": "37ccd22b",
   "metadata": {},
   "source": [
    "## stopping index\n"
   ]
  },
  {
   "cell_type": "code",
   "execution_count": 16,
   "id": "3690094c",
   "metadata": {},
   "outputs": [
    {
     "data": {
      "text/plain": [
       "'345'"
      ]
     },
     "execution_count": 16,
     "metadata": {},
     "output_type": "execute_result"
    }
   ],
   "source": [
    "my_s2[2:5]"
   ]
  },
  {
   "cell_type": "markdown",
   "id": "6d9b2667",
   "metadata": {},
   "source": [
    "## step size\n"
   ]
  },
  {
   "cell_type": "code",
   "execution_count": 17,
   "id": "8cbf043b",
   "metadata": {},
   "outputs": [
    {
     "data": {
      "text/plain": [
       "'1470'"
      ]
     },
     "execution_count": 17,
     "metadata": {},
     "output_type": "execute_result"
    }
   ],
   "source": [
    "my_s2[::3]"
   ]
  },
  {
   "cell_type": "code",
   "execution_count": 18,
   "id": "8a3a8611",
   "metadata": {},
   "outputs": [
    {
     "data": {
      "text/plain": [
       "'3'"
      ]
     },
     "execution_count": 18,
     "metadata": {},
     "output_type": "execute_result"
    }
   ],
   "source": [
    "my_s2[2:4:2]"
   ]
  },
  {
   "cell_type": "code",
   "execution_count": 19,
   "id": "901953e4",
   "metadata": {},
   "outputs": [
    {
     "data": {
      "text/plain": [
       "'0987654321'"
      ]
     },
     "execution_count": 19,
     "metadata": {},
     "output_type": "execute_result"
    }
   ],
   "source": [
    "my_s2[::-1]"
   ]
  },
  {
   "cell_type": "markdown",
   "id": "90a0afd1",
   "metadata": {},
   "source": [
    "## String Methods"
   ]
  },
  {
   "cell_type": "code",
   "execution_count": 20,
   "id": "8f3c90ef",
   "metadata": {},
   "outputs": [],
   "source": [
    "my_name=\"Emre\""
   ]
  },
  {
   "cell_type": "code",
   "execution_count": 21,
   "id": "917fa7fa",
   "metadata": {},
   "outputs": [
    {
     "data": {
      "text/plain": [
       "'EMRE'"
      ]
     },
     "execution_count": 21,
     "metadata": {},
     "output_type": "execute_result"
    }
   ],
   "source": [
    "my_name.upper()"
   ]
  },
  {
   "cell_type": "code",
   "execution_count": 22,
   "id": "cf7d0921",
   "metadata": {},
   "outputs": [
    {
     "data": {
      "text/plain": [
       "'emreemreemreemreemreemreemreemreemreemreemreemreemreemreemreemreemreemreemreemreemreemreemreemreemreemreemreemreemreemreemreemreemreemreemreemreemreemreemreemreemreemreemreemreemreemreemreemreemreemreemreemreemreemreemreemreemreemreemreemreemreemreemreemreemreemreemreemreemreemreemreemreemreemreemreemreemreemreemreemreemreemreemreemreemreemreemreemreemreemreemreemreemreemreemreemreemreemreemreemre'"
      ]
     },
     "execution_count": 22,
     "metadata": {},
     "output_type": "execute_result"
    }
   ],
   "source": [
    "\"emre\" * 10 * 10"
   ]
  },
  {
   "cell_type": "code",
   "execution_count": null,
   "id": "d27415b1",
   "metadata": {},
   "outputs": [],
   "source": []
  }
 ],
 "metadata": {
  "kernelspec": {
   "display_name": "Python 3 (ipykernel)",
   "language": "python",
   "name": "python3"
  },
  "language_info": {
   "codemirror_mode": {
    "name": "ipython",
    "version": 3
   },
   "file_extension": ".py",
   "mimetype": "text/x-python",
   "name": "python",
   "nbconvert_exporter": "python",
   "pygments_lexer": "ipython3",
   "version": "3.9.7"
  }
 },
 "nbformat": 4,
 "nbformat_minor": 5
}

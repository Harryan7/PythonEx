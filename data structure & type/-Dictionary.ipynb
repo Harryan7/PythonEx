{
 "cells": [
  {
   "cell_type": "code",
   "execution_count": 3,
   "id": "5b39ba9c",
   "metadata": {},
   "outputs": [],
   "source": [
    "myDictionary = {\"key\":\"value\"}"
   ]
  },
  {
   "cell_type": "code",
   "execution_count": 4,
   "id": "9270b32f",
   "metadata": {},
   "outputs": [
    {
     "data": {
      "text/plain": [
       "'value'"
      ]
     },
     "execution_count": 4,
     "metadata": {},
     "output_type": "execute_result"
    }
   ],
   "source": [
    "myDictionary[\"key\"]"
   ]
  },
  {
   "cell_type": "code",
   "execution_count": 5,
   "id": "709b302d",
   "metadata": {},
   "outputs": [],
   "source": [
    "myList = [100,200]"
   ]
  },
  {
   "cell_type": "code",
   "execution_count": 6,
   "id": "88e3dc0e",
   "metadata": {},
   "outputs": [],
   "source": [
    "myList2 = [\"run\", \"swim\"]"
   ]
  },
  {
   "cell_type": "code",
   "execution_count": 7,
   "id": "8fd1d054",
   "metadata": {},
   "outputs": [
    {
     "data": {
      "text/plain": [
       "100"
      ]
     },
     "execution_count": 7,
     "metadata": {},
     "output_type": "execute_result"
    }
   ],
   "source": [
    "myList[0\n",
    "      ]\n"
   ]
  },
  {
   "cell_type": "code",
   "execution_count": 8,
   "id": "23b05a43",
   "metadata": {},
   "outputs": [
    {
     "data": {
      "text/plain": [
       "'run'"
      ]
     },
     "execution_count": 8,
     "metadata": {},
     "output_type": "execute_result"
    }
   ],
   "source": [
    "myList2[0]\n"
   ]
  },
  {
   "cell_type": "code",
   "execution_count": 9,
   "id": "8b391190",
   "metadata": {},
   "outputs": [],
   "source": [
    "myFitnessDic = {\"run\":100, \"swim\":200}"
   ]
  },
  {
   "cell_type": "code",
   "execution_count": 10,
   "id": "4e10a11e",
   "metadata": {},
   "outputs": [
    {
     "data": {
      "text/plain": [
       "100"
      ]
     },
     "execution_count": 10,
     "metadata": {},
     "output_type": "execute_result"
    }
   ],
   "source": [
    "myFitnessDic [\"run\"]"
   ]
  },
  {
   "cell_type": "code",
   "execution_count": 11,
   "id": "26e5e0bf",
   "metadata": {},
   "outputs": [
    {
     "data": {
      "text/plain": [
       "200"
      ]
     },
     "execution_count": 11,
     "metadata": {},
     "output_type": "execute_result"
    }
   ],
   "source": [
    "myFitnessDic[\"swim\"]"
   ]
  },
  {
   "cell_type": "code",
   "execution_count": 12,
   "id": "fb8a95b8",
   "metadata": {},
   "outputs": [],
   "source": [
    "myDictionary2={\"key1\":1, \"key2\":2 ,\"key3\":\"apple\"}"
   ]
  },
  {
   "cell_type": "code",
   "execution_count": 13,
   "id": "02230cdd",
   "metadata": {},
   "outputs": [
    {
     "data": {
      "text/plain": [
       "'apple'"
      ]
     },
     "execution_count": 13,
     "metadata": {},
     "output_type": "execute_result"
    }
   ],
   "source": [
    "myDictionary2[\"key3\"]"
   ]
  },
  {
   "cell_type": "code",
   "execution_count": 14,
   "id": "e085343c",
   "metadata": {},
   "outputs": [],
   "source": [
    "myDictionary3 = {\"key1\":10,20:30}"
   ]
  },
  {
   "cell_type": "code",
   "execution_count": 15,
   "id": "80c2ea08",
   "metadata": {},
   "outputs": [
    {
     "data": {
      "text/plain": [
       "10"
      ]
     },
     "execution_count": 15,
     "metadata": {},
     "output_type": "execute_result"
    }
   ],
   "source": [
    "myDictionary3 [\"key1\"]"
   ]
  },
  {
   "cell_type": "code",
   "execution_count": 16,
   "id": "37e0d66c",
   "metadata": {},
   "outputs": [
    {
     "data": {
      "text/plain": [
       "30"
      ]
     },
     "execution_count": 16,
     "metadata": {},
     "output_type": "execute_result"
    }
   ],
   "source": [
    "myDictionary3[20]"
   ]
  },
  {
   "cell_type": "code",
   "execution_count": 17,
   "id": "e65659a5",
   "metadata": {},
   "outputs": [],
   "source": [
    "myDic = {\"key1\":100,\"key2\":[10,20,30],\"key3\" : {\"a\":5}}"
   ]
  },
  {
   "cell_type": "code",
   "execution_count": 19,
   "id": "34d50dcb",
   "metadata": {},
   "outputs": [
    {
     "data": {
      "text/plain": [
       "{'a': 5}"
      ]
     },
     "execution_count": 19,
     "metadata": {},
     "output_type": "execute_result"
    }
   ],
   "source": [
    "myDic[\"key3\"]"
   ]
  },
  {
   "cell_type": "code",
   "execution_count": 20,
   "id": "407230c2",
   "metadata": {},
   "outputs": [
    {
     "data": {
      "text/plain": [
       "dict_keys(['key1', 'key2', 'key3'])"
      ]
     },
     "execution_count": 20,
     "metadata": {},
     "output_type": "execute_result"
    }
   ],
   "source": [
    "myDic.keys()"
   ]
  },
  {
   "cell_type": "code",
   "execution_count": 21,
   "id": "4cafe0c5",
   "metadata": {},
   "outputs": [
    {
     "data": {
      "text/plain": [
       "dict_values([100, [10, 20, 30], {'a': 5}])"
      ]
     },
     "execution_count": 21,
     "metadata": {},
     "output_type": "execute_result"
    }
   ],
   "source": [
    "myDic.values()"
   ]
  },
  {
   "cell_type": "code",
   "execution_count": 26,
   "id": "9fdc9f94",
   "metadata": {},
   "outputs": [
    {
     "data": {
      "text/plain": [
       "5"
      ]
     },
     "execution_count": 26,
     "metadata": {},
     "output_type": "execute_result"
    }
   ],
   "source": [
    "myDic[\"key3\"] [\"a\"]"
   ]
  },
  {
   "cell_type": "code",
   "execution_count": 27,
   "id": "a38cdfe2",
   "metadata": {},
   "outputs": [],
   "source": [
    "myd = {\"k1\":1, \"k2\":2}"
   ]
  },
  {
   "cell_type": "code",
   "execution_count": 28,
   "id": "800b9706",
   "metadata": {},
   "outputs": [],
   "source": [
    "myd [\"k1\"] =3"
   ]
  },
  {
   "cell_type": "code",
   "execution_count": 29,
   "id": "00559cf8",
   "metadata": {},
   "outputs": [
    {
     "data": {
      "text/plain": [
       "3"
      ]
     },
     "execution_count": 29,
     "metadata": {},
     "output_type": "execute_result"
    }
   ],
   "source": [
    "myd[\"k1\"]"
   ]
  },
  {
   "cell_type": "code",
   "execution_count": 30,
   "id": "8e03f824",
   "metadata": {},
   "outputs": [],
   "source": [
    "myd [\"k3\"] = 7"
   ]
  },
  {
   "cell_type": "code",
   "execution_count": 31,
   "id": "e3468896",
   "metadata": {},
   "outputs": [
    {
     "data": {
      "text/plain": [
       "{'k1': 3, 'k2': 2, 'k3': 7}"
      ]
     },
     "execution_count": 31,
     "metadata": {},
     "output_type": "execute_result"
    }
   ],
   "source": [
    "myd"
   ]
  },
  {
   "cell_type": "code",
   "execution_count": null,
   "id": "ddfb6a14",
   "metadata": {},
   "outputs": [],
   "source": []
  }
 ],
 "metadata": {
  "kernelspec": {
   "display_name": "Python 3 (ipykernel)",
   "language": "python",
   "name": "python3"
  },
  "language_info": {
   "codemirror_mode": {
    "name": "ipython",
    "version": 3
   },
   "file_extension": ".py",
   "mimetype": "text/x-python",
   "name": "python",
   "nbconvert_exporter": "python",
   "pygments_lexer": "ipython3",
   "version": "3.9.7"
  }
 },
 "nbformat": 4,
 "nbformat_minor": 5
}
